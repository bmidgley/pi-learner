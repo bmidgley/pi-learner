{
 "cells": [
  {
   "cell_type": "markdown",
   "metadata": {},
   "source": [
    "Experiment\n",
    "==========\n",
    "\n",
    "Don't worry if you make a mistake in coding. The output below the code will be a helpful message trying to get you back on track. We'll have lots of opportunity to improve or occasionally break the code. For example, can you find and fix the problem in the code below that prevents it from running? Python tries to tell us as concisely as it can, but it sometimes comes off a little terse. Fix the error and hit shift and enter to run it again.\n",
    "\n",
    "If you aren't familiar with python syntax, compare the if statement below with the for and proc statements in the code above to see what is missing.\n"
   ]
  },
  {
   "cell_type": "code",
   "execution_count": 5,
   "metadata": {
    "collapsed": false
   },
   "outputs": [
    {
     "ename": "SyntaxError",
     "evalue": "invalid syntax (<ipython-input-5-559999fffc4f>, line 3)",
     "output_type": "error",
     "traceback": [
      "\u001b[0;36m  File \u001b[0;32m\"<ipython-input-5-559999fffc4f>\"\u001b[0;36m, line \u001b[0;32m3\u001b[0m\n\u001b[0;31m    if((datetime.datetime.today().hour) > 12)\u001b[0m\n\u001b[0m                                             ^\u001b[0m\n\u001b[0;31mSyntaxError\u001b[0m\u001b[0;31m:\u001b[0m invalid syntax\n"
     ]
    }
   ],
   "source": [
    "import datetime;\n",
    "\n",
    "if((datetime.datetime.today().hour) > 12)\n",
    "    print(\"good afternoon\")\n",
    "else:\n",
    "    print(\"good morning\")"
   ]
  },
  {
   "cell_type": "markdown",
   "metadata": {},
   "source": [
    "\n",
    "Mousing around\n",
    "==============\n",
    "\n",
    "What more can we do with the environment? How about making buttons to turn the LED on or off:"
   ]
  },
  {
   "cell_type": "code",
   "execution_count": null,
   "metadata": {
    "collapsed": false
   },
   "outputs": [],
   "source": [
    "import RPi.GPIO as GPIO\n",
    "from ipywidgets import widgets\n",
    "from IPython.display import display\n",
    "\n",
    "print(\"using Raspberry Pi board pin numbers\")\n",
    "GPIO.setmode(GPIO.BOARD)\n",
    "led_pin = 11\n",
    "\n",
    "print(\"set up GPIO output channel\")\n",
    "GPIO.setwarnings(False)\n",
    "GPIO.setup(led_pin, GPIO.OUT)\n",
    "\n",
    "def led_on(btn):\n",
    "    print('on')\n",
    "    GPIO.output(led_pin, GPIO.HIGH)\n",
    "    \n",
    "def led_off(btn):\n",
    "    print('off')\n",
    "    GPIO.output(led_pin, GPIO.LOW)\n",
    "    \n",
    "on_btn = widgets.Button(description=\"On!\")\n",
    "on_btn.on_click(led_on)\n",
    "off_btn = widgets.Button(description=\"Off!\")\n",
    "off_btn.on_click(led_off)\n",
    "display(on_btn)\n",
    "display(off_btn)\n"
   ]
  },
  {
   "cell_type": "markdown",
   "metadata": {},
   "source": [
    "Watch the messages that appear under the code as you hit the buttons. You can change the messages if you want to. Edit the code above and hit shift and enter together to see how it works.\n",
    "\n",
    "Go on to [Learner lesson 3](learner3.ipynb)"
   ]
  },
  {
   "cell_type": "code",
   "execution_count": null,
   "metadata": {
    "collapsed": true
   },
   "outputs": [],
   "source": []
  }
 ],
 "metadata": {
  "kernelspec": {
   "display_name": "Python 3",
   "language": "python",
   "name": "python3"
  },
  "language_info": {
   "codemirror_mode": {
    "name": "ipython",
    "version": 3
   },
   "file_extension": ".py",
   "mimetype": "text/x-python",
   "name": "python",
   "nbconvert_exporter": "python",
   "pygments_lexer": "ipython3",
   "version": "3.4.2"
  },
  "widgets": {
   "state": {
    "7b9c3e2dba6a4dffbc7bdfa0d6f58a45": {
     "views": [
      {
       "cell_index": 3
      }
     ]
    },
    "fd637827266045e2bd102a2eca42bc78": {
     "views": [
      {
       "cell_index": 3
      }
     ]
    }
   },
   "version": "1.2.0"
  }
 },
 "nbformat": 4,
 "nbformat_minor": 0
}
