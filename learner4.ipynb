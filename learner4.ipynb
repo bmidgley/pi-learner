{
 "cells": [
  {
   "cell_type": "markdown",
   "metadata": {},
   "source": [
    "Digital temperature sensor\n",
    "======================\n",
    "\n",
    "For this exercise, you need a ds18b20 digital temperature sensor and a 4.7k ohm resistor.\n",
    "\n",
    "Connect it up:\n",
    "\n",
    "* 4.7k resistor connects between pi pin 1 and pi pin 7\n",
    "* ds18b20 pin 1 to pi pin 6\n",
    "* ds18b20 pin 2 to pi pin 7\n",
    "* ds18b20 pin 3 to pi pin 1\n"
   ]
  },
  {
   "cell_type": "code",
   "execution_count": 1,
   "metadata": {
    "collapsed": false
   },
   "outputs": [
    {
     "data": {
      "text/html": [
       "\n",
       "<script type=\"text/javascript\" src=\"js/smoothie.js\"></script>\n",
       "<script type=\"text/Javascript\">\n",
       "    var running = false;\n",
       "    var sc = new SmoothieChart({ \n",
       "        interpolation: 'step',\n",
       "        grid: { strokeStyle:'rgb(125, 0, 0)', fillStyle:'rgb(60, 0, 0)',\n",
       "            lineWidth: 1, millisPerLine: 250, verticalSections: 6 },\n",
       "        labels: { fillStyle:'rgb(60, 0, 0)' } });\n",
       "    var line1 = new TimeSeries();\n",
       "    sc.addTimeSeries(line1,\n",
       "        { strokeStyle:'rgb(0, 255, 0)', fillStyle:'rgba(0, 255, 0, 0.4)', lineWidth:3 });\n",
       "  \n",
       "    sc.streamTo(document.getElementById(\"graphcanvas1\"));\n",
       "    \n",
       "    function append_value(out) {\n",
       "        if(out.msg_type == 'error') {\n",
       "            running = false;\n",
       "        } else {\n",
       "            var value = out.content.data[\"text/plain\"];\n",
       "            line1.append(new Date().getTime(), value);\n",
       "        }\n",
       "    }\n",
       "    \n",
       "    function watch_input() {\n",
       "        if(running) {\n",
       "            Jupyter.notebook.kernel.execute(\"read_temp(0)\", \n",
       "                {iopub: {output: append_value}}, {silent: false}); \n",
       "            setTimeout(watch_input, 100);\n",
       "        }\n",
       "    }\n",
       "    setTimeout(function() { running = true; watch_input(); }, 3000);\n",
       "</script>\n",
       "<canvas id=\"graphcanvas1\" width=\"600\" height=\"200\"/>\n"
      ],
      "text/plain": [
       "<IPython.core.display.HTML object>"
      ]
     },
     "execution_count": 1,
     "metadata": {},
     "output_type": "execute_result"
    }
   ],
   "source": [
    "from IPython.display import HTML\n",
    "\n",
    "import os\n",
    "import glob\n",
    "import time\n",
    "\n",
    "base_dir = '/sys/bus/w1/devices/'\n",
    "device_folders = sorted(glob.glob(base_dir + '28*'))\n",
    "\n",
    "def read_temp_raw(id):\n",
    "    device_file = device_folders[id] + '/w1_slave'\n",
    "    f = open(device_file, 'r')\n",
    "    lines = f.readlines()\n",
    "    f.close()\n",
    "    return lines\n",
    "\n",
    "def read_temp(id):\n",
    "    lines = read_temp_raw(id)\n",
    "    while lines[0].strip()[-3:] != 'YES':\n",
    "        time.sleep(0.2)\n",
    "        lines = read_temp_raw()\n",
    "    equals_pos = lines[1].find('t=')\n",
    "    if equals_pos != -1:\n",
    "        temp_string = lines[1][equals_pos+2:]\n",
    "        temp_c = float(temp_string) / 1000.0\n",
    "        temp_f = temp_c * 9.0 / 5.0 + 32.0\n",
    "        return temp_c #, temp_f\n",
    "\n",
    "    \n",
    "HTML(\"\"\"\n",
    "<script type=\"text/javascript\" src=\"js/smoothie.js\"></script>\n",
    "<script type=\"text/Javascript\">\n",
    "    var running = false;\n",
    "    var sc = new SmoothieChart({ \n",
    "        interpolation: 'step',\n",
    "        grid: { strokeStyle:'rgb(125, 0, 0)', fillStyle:'rgb(60, 0, 0)',\n",
    "            lineWidth: 1, millisPerLine: 250, verticalSections: 6 },\n",
    "        labels: { fillStyle:'rgb(60, 0, 0)' } });\n",
    "    var line1 = new TimeSeries();\n",
    "    sc.addTimeSeries(line1,\n",
    "        { strokeStyle:'rgb(0, 255, 0)', fillStyle:'rgba(0, 255, 0, 0.4)', lineWidth:3 });\n",
    "  \n",
    "    sc.streamTo(document.getElementById(\"graphcanvas1\"));\n",
    "    \n",
    "    function append_value(out) {\n",
    "        if(out.msg_type == 'error') {\n",
    "            running = false;\n",
    "        } else {\n",
    "            var value = out.content.data[\"text/plain\"];\n",
    "            line1.append(new Date().getTime(), value);\n",
    "        }\n",
    "    }\n",
    "    \n",
    "    function watch_input() {\n",
    "        if(running) {\n",
    "            Jupyter.notebook.kernel.execute(\"read_temp(0)\", \n",
    "                {iopub: {output: append_value}}, {silent: false}); \n",
    "            setTimeout(watch_input, 100);\n",
    "        }\n",
    "    }\n",
    "    setTimeout(function() { running = true; watch_input(); }, 3000);\n",
    "</script>\n",
    "<canvas id=\"graphcanvas1\" width=\"600\" height=\"200\"/>\n",
    "\"\"\")"
   ]
  },
  {
   "cell_type": "code",
   "execution_count": null,
   "metadata": {
    "collapsed": true
   },
   "outputs": [],
   "source": []
  }
 ],
 "metadata": {
  "kernelspec": {
   "display_name": "Python 3",
   "language": "python",
   "name": "python3"
  },
  "language_info": {
   "codemirror_mode": {
    "name": "ipython",
    "version": 3
   },
   "file_extension": ".py",
   "mimetype": "text/x-python",
   "name": "python",
   "nbconvert_exporter": "python",
   "pygments_lexer": "ipython3",
   "version": "3.4.2"
  }
 },
 "nbformat": 4,
 "nbformat_minor": 2
}
