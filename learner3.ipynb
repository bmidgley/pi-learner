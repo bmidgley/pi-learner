{
 "cells": [
  {
   "cell_type": "markdown",
   "metadata": {},
   "source": [
    "Graphing things\n",
    "===============\n",
    "\n",
    "Let's look at what the pi sees when you connect a switch.\n",
    "\n",
    "A resistor is needed to \"pull down\" the level.\n",
    "\n",
    "Connect a blue jumper to pin 9 (GND) and a green jumper to pin 8 (GPIO14). Connect the resistor between these wires.\n",
    "\n",
    "Connect a wire to pin 4 (+5) that you can touch to pin 8. Do not allow it to touch the ground side of the resistor. This could reset the Pi unexpectedly and could cause more trouble. Notice I trimmed the resistor lead short to avoid accidentally contacting the GND (blue) wire directly.\n",
    "\n",
    "In the image, the small coiled wire is where you should touch the red (+5) lead.\n",
    "\n",
    "![LED wired in](img/switch.jpg)\n",
    "\n",
    "It may seem like there is a lot of code here. Updating a graph live requires some glue between python and javascript. We set up the GPIO using python code, then in javascript, construct a \"smoothie\" graph that shows the changing value from GPIO8. Notice the line with Jupyter.notebook.kernel.execute. It uses a python expression \"GPIO.input(switch_pin)\". We are graphing the output from this expression.\n",
    "\n",
    "Run the program below and watch the graph as you touch the +5 wire to pin 8 and release it. The graph registers \"1\" when the wires touch and \"0\" when they don't.\n",
    "\n",
    "If an error is encountered, the graph will stop displaying data. Re-run the code below to start over.\n"
   ]
  },
  {
   "cell_type": "code",
   "execution_count": 1,
   "metadata": {
    "collapsed": false
   },
   "outputs": [
    {
     "name": "stdout",
     "output_type": "stream",
     "text": [
      "using Raspberry Pi board pin numbers\n",
      "set up GPIO input channel\n"
     ]
    },
    {
     "data": {
      "text/html": [
       "\n",
       "<script type=\"text/javascript\" src=\"https://cdnjs.cloudflare.com/ajax/libs/smoothie/1.27.0/smoothie.js\"></script>\n",
       "<script type=\"text/Javascript\">\n",
       "    var running = false;\n",
       "    var sc = new SmoothieChart({ \n",
       "        maxValue: 1.1, minValue: -0.1, interpolation: 'step',\n",
       "        grid: { strokeStyle:'rgb(125, 0, 0)', fillStyle:'rgb(60, 0, 0)',\n",
       "            lineWidth: 1, millisPerLine: 250, verticalSections: 6 },\n",
       "        labels: { fillStyle:'rgb(60, 0, 0)' } });\n",
       "    var line1 = new TimeSeries();\n",
       "    sc.addTimeSeries(line1,\n",
       "        { strokeStyle:'rgb(0, 255, 0)', fillStyle:'rgba(0, 255, 0, 0.4)', lineWidth:3 });\n",
       "  \n",
       "    sc.streamTo(document.getElementById(\"graphcanvas1\"));\n",
       "    \n",
       "    function append_value(out) {\n",
       "        if(out.msg_type == 'error') {\n",
       "            running = false;\n",
       "        } else {\n",
       "            var value = out.content.data[\"text/plain\"];\n",
       "            line1.append(new Date().getTime(), value);\n",
       "        }\n",
       "    }\n",
       "    \n",
       "    function watch_input() {\n",
       "        if(running) {\n",
       "            Jupyter.notebook.kernel.execute(\"GPIO.input(switch_pin)\", \n",
       "                {iopub: {output: append_value}}, {silent: false}); \n",
       "            setTimeout(watch_input, 100);\n",
       "        }\n",
       "    }\n",
       "    setTimeout(function() { running = true; watch_input(); }, 3000);\n",
       "</script>\n",
       "<canvas id=\"graphcanvas1\" width=\"600\" height=\"200\"/>\n"
      ],
      "text/plain": [
       "<IPython.core.display.HTML object>"
      ]
     },
     "execution_count": 1,
     "metadata": {},
     "output_type": "execute_result"
    }
   ],
   "source": [
    "import RPi.GPIO as GPIO\n",
    "from IPython.display import HTML\n",
    "\n",
    "print(\"using Raspberry Pi board pin numbers\")\n",
    "GPIO.setmode(GPIO.BOARD)\n",
    "switch_pin = 8\n",
    "\n",
    "print(\"set up GPIO input channel\")\n",
    "GPIO.setwarnings(False)\n",
    "GPIO.setup(switch_pin, GPIO.IN)\n",
    "    \n",
    "HTML(\"\"\"\n",
    "<script type=\"text/javascript\" src=\"https://cdnjs.cloudflare.com/ajax/libs/smoothie/1.27.0/smoothie.js\"></script>\n",
    "<script type=\"text/Javascript\">\n",
    "    var running = false;\n",
    "    var sc = new SmoothieChart({ \n",
    "        maxValue: 1.1, minValue: -0.1, interpolation: 'step',\n",
    "        grid: { strokeStyle:'rgb(125, 0, 0)', fillStyle:'rgb(60, 0, 0)',\n",
    "            lineWidth: 1, millisPerLine: 250, verticalSections: 6 },\n",
    "        labels: { fillStyle:'rgb(60, 0, 0)' } });\n",
    "    var line1 = new TimeSeries();\n",
    "    sc.addTimeSeries(line1,\n",
    "        { strokeStyle:'rgb(0, 255, 0)', fillStyle:'rgba(0, 255, 0, 0.4)', lineWidth:3 });\n",
    "  \n",
    "    sc.streamTo(document.getElementById(\"graphcanvas1\"));\n",
    "    \n",
    "    function append_value(out) {\n",
    "        if(out.msg_type == 'error') {\n",
    "            running = false;\n",
    "        } else {\n",
    "            var value = out.content.data[\"text/plain\"];\n",
    "            line1.append(new Date().getTime(), value);\n",
    "        }\n",
    "    }\n",
    "    \n",
    "    function watch_input() {\n",
    "        if(running) {\n",
    "            Jupyter.notebook.kernel.execute(\"GPIO.input(switch_pin)\", \n",
    "                {iopub: {output: append_value}}, {silent: false}); \n",
    "            setTimeout(watch_input, 100);\n",
    "        }\n",
    "    }\n",
    "    setTimeout(function() { running = true; watch_input(); }, 3000);\n",
    "</script>\n",
    "<canvas id=\"graphcanvas1\" width=\"600\" height=\"200\"/>\n",
    "\"\"\")"
   ]
  },
  {
   "cell_type": "markdown",
   "metadata": {},
   "source": [
    "What next\n",
    "==========\n",
    "\n",
    "What would you like to do next? What kind of places can a little computer like the Pi go?\n",
    "\n",
    "* high-altitude balloon\n",
    "* in the car\n",
    "* at the top of a tower\n",
    "* with a solar panel in the desert\n",
    "\n",
    "\n",
    "Also think about the kind of ways the Pi can interface with the world. What would you like to try?\n",
    "\n",
    "* touch screen\n",
    "* temperature sensor\n",
    "* light sensor\n",
    "* proximity sensor\n",
    "* sound sensor\n",
    "* sound output (make it talk, play notes)\n",
    "* air quality sensor\n",
    "* water detection\n",
    "* weather station\n",
    "* turning on a motor\n",
    "\n",
    "\n"
   ]
  },
  {
   "cell_type": "code",
   "execution_count": null,
   "metadata": {
    "collapsed": true
   },
   "outputs": [],
   "source": []
  }
 ],
 "metadata": {
  "kernelspec": {
   "display_name": "Python 3",
   "language": "python",
   "name": "python3"
  }
 },
 "nbformat": 4,
 "nbformat_minor": 0
}
