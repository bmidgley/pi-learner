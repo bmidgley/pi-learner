{
 "cells": [
  {
   "cell_type": "markdown",
   "metadata": {},
   "source": [
    "Coding the magic\n",
    "==================================\n",
    "\n",
    "\n",
    "Now wire up your LED light to the pi. First have a look at the diagram of the 40-pin interface. The diagram below is provided by element14.\n",
    "\n",
    "![element14.com pinout diagram](https://www.element14.com/community/servlet/JiveServlet/showImage/102-78315-10-229602/GPIO-pinout-and-rpi.jpg)\n",
    "\n",
    "We will refer in the code to the physical pin number, but it is always useful to be able to look at a diagram to tell what is available to use on each pin. Anything marked \"GPIO\" is a general-purpose input/output pin that we can assign to output a signal to drive the LED. When the signal is HIGH, it will allow current to light the LED.\n",
    "\n",
    "![LED wired in](img/led.jpg)\n",
    "\n",
    "The long leg of the LED should go to the resistor which plugs into pin 11 and the short leg should go to GND on pin 6.\n",
    "\n",
    "Once you have that, and as long as you are executing now inside ipython, you can click on the box below and hit shift-enter to run the script and watch it flash the LED."
   ]
  },
  {
   "cell_type": "code",
   "execution_count": 11,
   "metadata": {
    "collapsed": false
   },
   "outputs": [
    {
     "name": "stdout",
     "output_type": "stream",
     "text": [
      "using Raspberry Pi board pin numbers\n",
      "set up GPIO output channel\n",
      "blinking the LED\n",
      "blink\n",
      "blink\n",
      "blink\n",
      "blink\n",
      "blink\n",
      "blink\n"
     ]
    }
   ],
   "source": [
    "import RPi.GPIO as GPIO\n",
    "import time\n",
    "from IPython.display import clear_output\n",
    "\n",
    "# blinking function\n",
    "def blink(pin):\n",
    "    GPIO.output(pin, GPIO.HIGH)\n",
    "    time.sleep(0.5)\n",
    "    GPIO.output(pin, GPIO.LOW)\n",
    "    time.sleep(0.5)\n",
    "    return\n",
    "\n",
    "print(\"using Raspberry Pi board pin numbers\")\n",
    "GPIO.setmode(GPIO.BOARD)\n",
    "led_pin = 11\n",
    "\n",
    "print(\"set up GPIO output channel\")\n",
    "GPIO.setwarnings(False)\n",
    "GPIO.setup(led_pin, GPIO.OUT)\n",
    "\n",
    "print(\"blinking the LED\")\n",
    "for i in range(0,6):\n",
    "    print(\"blink\")\n",
    "    blink(led_pin)\n",
    "    \n",
    "GPIO.cleanup()"
   ]
  },
  {
   "cell_type": "markdown",
   "metadata": {},
   "source": [
    "Next [notebook](learner2.ipynb)\n",
    "\n",
    "It really does it\n",
    "=================\n",
    "Did you see the output of the script appear under your code window? Did your LED flash its little heart out? We love being able to dig right in like this. It's spine-tingling fun the first time you see it.\n",
    "\n",
    "Now click in the code above and try changing it before you hit shift-enter again. You could make it blink more quickly for example by shortening the sleep timer duration to 0.25.\n",
    "\n",
    "What is the code doing\n",
    "======================\n",
    "It may look like a jumbled mess when you first encounter someone's code. Let's dig in and dispell this.\n",
    "\n",
    "First, this is python code that uses libraries especially for pi. Python is a popular language for using the pi and it's also fairly easy to get started with.\n",
    "\n",
    "The first lines with \"import\" make it clear what other libraries and functions we will call on. We need GPIO functions for activating the LED as well as time functions for pausing between flashes.\n",
    "\n",
    "Next we create a function to blink the LED. It will set the pin to HIGH to illuminate it with current and LOW when we want it off. It will return after flashing the LED once.\n",
    "\n",
    "In two steps, we tell the GPIO library we will use board pin numbering and we set \"led_pin\" to 11. With board pin numbering, this refers to the pin 11 on the physical connector. If you count your way up from the bottom, you can see in the diagram above this pin has the name \"GPIO17\". The 17 isn't really important to us, but we had to choose a pin that was a GPIO so we could use it for general purpose input/output (output specifically).\n",
    "\n",
    "Pin 11 has to be designated for output next.\n",
    "\n",
    "Finally we use a range to cycle through a loop to blink the light. It blinks once for 0 and up to 5.\n",
    "\n",
    "\n",
    "Experiment\n",
    "==========\n",
    "\n",
    "Don't worry if you make a mistake in coding. The output below the code will be a helpful message trying to get you back on track. We'll have lots of opportunity to improve or occasionally break the code. For example, can you find and fix the problem in the code below that prevents it from running? Python tries to tell us as concisely as it can, but it sometimes comes off a little terse. Fix the error and hit shift and enter to run it again.\n",
    "\n",
    "If you aren't familiar with python syntax, compare the if statement below with the for and proc statements in the code above to see what is missing.\n"
   ]
  },
  {
   "cell_type": "code",
   "execution_count": 12,
   "metadata": {
    "collapsed": false
   },
   "outputs": [
    {
     "ename": "SyntaxError",
     "evalue": "invalid syntax (<ipython-input-12-559999fffc4f>, line 3)",
     "output_type": "error",
     "traceback": [
      "\u001b[0;36m  File \u001b[0;32m\"<ipython-input-12-559999fffc4f>\"\u001b[0;36m, line \u001b[0;32m3\u001b[0m\n\u001b[0;31m    if((datetime.datetime.today().hour) > 12)\u001b[0m\n\u001b[0m                                             ^\u001b[0m\n\u001b[0;31mSyntaxError\u001b[0m\u001b[0;31m:\u001b[0m invalid syntax\n"
     ]
    }
   ],
   "source": [
    "import datetime;\n",
    "\n",
    "if((datetime.datetime.today().hour) > 12)\n",
    "    print(\"good afternoon\")\n",
    "else:\n",
    "    print(\"good morning\")"
   ]
  },
  {
   "cell_type": "markdown",
   "metadata": {},
   "source": [
    "\n",
    "Mousing around\n",
    "==============\n",
    "\n",
    "What more can we do with the environment? How about making buttons to turn the LED on or off:"
   ]
  },
  {
   "cell_type": "code",
   "execution_count": 13,
   "metadata": {
    "collapsed": false
   },
   "outputs": [
    {
     "name": "stdout",
     "output_type": "stream",
     "text": [
      "using Raspberry Pi board pin numbers\n",
      "set up GPIO output channel\n",
      "on\n",
      "off\n",
      "on\n",
      "off\n",
      "on\n",
      "on\n",
      "off\n",
      "on\n",
      "off\n",
      "off\n"
     ]
    }
   ],
   "source": [
    "import RPi.GPIO as GPIO\n",
    "from ipywidgets import widgets\n",
    "from IPython.display import display\n",
    "\n",
    "print(\"using Raspberry Pi board pin numbers\")\n",
    "GPIO.setmode(GPIO.BOARD)\n",
    "led_pin = 11\n",
    "\n",
    "print(\"set up GPIO output channel\")\n",
    "GPIO.setwarnings(False)\n",
    "GPIO.setup(led_pin, GPIO.OUT)\n",
    "\n",
    "def led_on(btn):\n",
    "    print('on')\n",
    "    GPIO.output(led_pin, GPIO.HIGH)\n",
    "    \n",
    "def led_off(btn):\n",
    "    print('off')\n",
    "    GPIO.output(led_pin, GPIO.LOW)\n",
    "    \n",
    "on_btn = widgets.Button(description=\"On!\")\n",
    "on_btn.on_click(led_on)\n",
    "off_btn = widgets.Button(description=\"Off!\")\n",
    "off_btn.on_click(led_off)\n",
    "display(on_btn)\n",
    "display(off_btn)\n"
   ]
  },
  {
   "cell_type": "markdown",
   "metadata": {},
   "source": [
    "Graphing things\n",
    "===============\n",
    "\n",
    "Let's look at what the pi sees when you connect a switch.\n",
    "\n",
    "A resistor is needed to \"pull down\" the level.\n",
    "\n",
    "Connect a blue jumper to pin 9 (GND) and a green jumper to pin 8 (GPIO14). Connect the resistor between these wires.\n",
    "\n",
    "Connect a wire to pin 4 (+5) that you can touch to pin 8. Do not allow it to touch the ground side of the resistor. This could reset the Pi unexpectedly and could cause more trouble. Notice I trimmed the resistor lead short to avoid accidentally contacting the GND (blue) wire directly.\n",
    "\n",
    "In the image, the small coiled wire is where you should touch the red (+5) lead.\n",
    "\n",
    "![LED wired in](img/switch.jpg)\n",
    "\n",
    "It may seem like there is a lot of code here. Updating a graph live requires some glue between python and javascript. We set up the GPIO using python code, then in javascript, construct a \"smoothie\" graph that shows the changing value from GPIO8. Notice the line with Jupyter.notebook.kernel.execute. It uses a python expression \"GPIO.input(switch_pin)\". We are graphing the output from this expression.\n",
    "\n",
    "Run the program below and watch the graph as you touch the +5 wire to pin 8 and release it. The graph registers \"1\" when the wires touch and \"0\" when they don't.\n",
    "\n",
    "If an error is encountered, the graph will stop displaying data. Re-run the code below to start over.\n"
   ]
  },
  {
   "cell_type": "code",
   "execution_count": 14,
   "metadata": {
    "collapsed": false
   },
   "outputs": [
    {
     "name": "stdout",
     "output_type": "stream",
     "text": [
      "using Raspberry Pi board pin numbers\n",
      "set up GPIO input channel\n"
     ]
    },
    {
     "data": {
      "text/html": [
       "\n",
       "<script type=\"text/javascript\" src=\"https://cdnjs.cloudflare.com/ajax/libs/smoothie/1.27.0/smoothie.js\"></script>\n",
       "<script type=\"text/Javascript\">\n",
       "    var running = false;\n",
       "    var sc = new SmoothieChart({ \n",
       "        maxValue: 1.1, minValue: -0.1, interpolation: 'step',\n",
       "        grid: { strokeStyle:'rgb(125, 0, 0)', fillStyle:'rgb(60, 0, 0)',\n",
       "            lineWidth: 1, millisPerLine: 250, verticalSections: 6 },\n",
       "        labels: { fillStyle:'rgb(60, 0, 0)' } });\n",
       "    var line1 = new TimeSeries();\n",
       "    sc.addTimeSeries(line1,\n",
       "        { strokeStyle:'rgb(0, 255, 0)', fillStyle:'rgba(0, 255, 0, 0.4)', lineWidth:3 });\n",
       "  \n",
       "    sc.streamTo(document.getElementById(\"graphcanvas1\"));\n",
       "    \n",
       "    function append_value(out) {\n",
       "        if(out.msg_type == 'error') {\n",
       "            running = false;\n",
       "        } else {\n",
       "            var value = out.content.data[\"text/plain\"];\n",
       "            line1.append(new Date().getTime(), value);\n",
       "        }\n",
       "    }\n",
       "    \n",
       "    function watch_input() {\n",
       "        if(running) {\n",
       "            Jupyter.notebook.kernel.execute(\"GPIO.input(switch_pin)\", \n",
       "                {iopub: {output: append_value}}, {silent: false}); \n",
       "            setTimeout(watch_input, 100);\n",
       "        }\n",
       "    }\n",
       "    setTimeout(function() { running = true; watch_input(); }, 3000);\n",
       "</script>\n",
       "<canvas id=\"graphcanvas1\" width=\"600\" height=\"200\"/>\n"
      ],
      "text/plain": [
       "<IPython.core.display.HTML object>"
      ]
     },
     "execution_count": 14,
     "metadata": {},
     "output_type": "execute_result"
    }
   ],
   "source": [
    "import RPi.GPIO as GPIO\n",
    "from IPython.display import HTML\n",
    "\n",
    "print(\"using Raspberry Pi board pin numbers\")\n",
    "GPIO.setmode(GPIO.BOARD)\n",
    "switch_pin = 8\n",
    "\n",
    "print(\"set up GPIO input channel\")\n",
    "GPIO.setwarnings(False)\n",
    "GPIO.setup(switch_pin, GPIO.IN)\n",
    "    \n",
    "HTML(\"\"\"\n",
    "<script type=\"text/javascript\" src=\"https://cdnjs.cloudflare.com/ajax/libs/smoothie/1.27.0/smoothie.js\"></script>\n",
    "<script type=\"text/Javascript\">\n",
    "    var running = false;\n",
    "    var sc = new SmoothieChart({ \n",
    "        maxValue: 1.1, minValue: -0.1, interpolation: 'step',\n",
    "        grid: { strokeStyle:'rgb(125, 0, 0)', fillStyle:'rgb(60, 0, 0)',\n",
    "            lineWidth: 1, millisPerLine: 250, verticalSections: 6 },\n",
    "        labels: { fillStyle:'rgb(60, 0, 0)' } });\n",
    "    var line1 = new TimeSeries();\n",
    "    sc.addTimeSeries(line1,\n",
    "        { strokeStyle:'rgb(0, 255, 0)', fillStyle:'rgba(0, 255, 0, 0.4)', lineWidth:3 });\n",
    "  \n",
    "    sc.streamTo(document.getElementById(\"graphcanvas1\"));\n",
    "    \n",
    "    function append_value(out) {\n",
    "        if(out.msg_type == 'error') {\n",
    "            running = false;\n",
    "        } else {\n",
    "            var value = out.content.data[\"text/plain\"];\n",
    "            line1.append(new Date().getTime(), value);\n",
    "        }\n",
    "    }\n",
    "    \n",
    "    function watch_input() {\n",
    "        if(running) {\n",
    "            Jupyter.notebook.kernel.execute(\"GPIO.input(switch_pin)\", \n",
    "                {iopub: {output: append_value}}, {silent: false}); \n",
    "            setTimeout(watch_input, 100);\n",
    "        }\n",
    "    }\n",
    "    setTimeout(function() { running = true; watch_input(); }, 3000);\n",
    "</script>\n",
    "<canvas id=\"graphcanvas1\" width=\"600\" height=\"200\"/>\n",
    "\"\"\")"
   ]
  },
  {
   "cell_type": "markdown",
   "metadata": {},
   "source": [
    "What next\n",
    "==========\n",
    "\n",
    "There is so much potential with an interactive platform. We can use python to create graphs on the page that update live from a sensor on the pi. We can connect more kinds of sensors and show how data collection and processing works. As we go, we'll show how you can share share and teach your own discoveries.\n",
    "\n",
    "Notes for improvement\n",
    "\n",
    "* youtube video demonstrating the operation on a pi\n",
    "* more exercises that are pure python that can run in place\n",
    "* bring fundamentals together in a pi example at the end\n",
    "* need circuit diagrams\n",
    "* pilot in a workshop setting to see where things get tricky for learners\n",
    "* figure out how to make an nbviewer page with live code\n",
    "* medium.com for drafts (mavenlink has a medium.com area that things can publish to)\n",
    "* write a simple, consumable, focused intro, could be a video and repo for this\n",
    "* blog post could be trimmed down to instructions, maybe diagrams\n",
    "\n",
    "other interfaces\n",
    "\n",
    "* capacitive touch\n",
    "* heat\n",
    "* lights \n",
    "* fan\n",
    "* proximity\n",
    "* sound input\n",
    "* sound output (make it talk, play notes)\n",
    "\n",
    "\n"
   ]
  },
  {
   "cell_type": "code",
   "execution_count": null,
   "metadata": {
    "collapsed": true
   },
   "outputs": [],
   "source": []
  }
 ],
 "metadata": {
  "kernelspec": {
   "display_name": "Python 3",
   "language": "python",
   "name": "python3"
  },
  "language_info": {
   "codemirror_mode": {
    "name": "ipython",
    "version": 3
   },
   "file_extension": ".py",
   "mimetype": "text/x-python",
   "name": "python",
   "nbconvert_exporter": "python",
   "pygments_lexer": "ipython3",
   "version": "3.4.2"
  }
 },
 "nbformat": 4,
 "nbformat_minor": 0
}
