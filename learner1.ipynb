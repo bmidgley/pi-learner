{
 "cells": [
  {
   "cell_type": "markdown",
   "metadata": {},
   "source": [
    "Coding the magic\n",
    "==================================\n",
    "\n",
    "\n",
    "Collect wires, a 1k or so resistor and an LED for a simple test. We'll wire up your LED light to the pi.\n",
    "\n",
    "I try to use red for +5 and blue or green for ground. My green ground wire is grounded to pin 9 on the pi. My red wire goes to pin 11 where the voltage can be controlled by our code.\n",
    "\n",
    "An LED has to have the polarity right or it won't turn on. The long leg of the LED should go to the resistor and then to the red wire. The short leg should go to the green wire.\n",
    "\n",
    "![LED wired in](img/led.jpg)\n",
    "\n",
    "For a high-level look, see the diagram of the 40-pin interface. The diagram below was made by the people at raspberry-pi-geek.com.\n",
    "\n",
    "![raspberry-pi-geek.com pinout](img/raspberry-pi-geek-com.png)\n",
    "\n",
    "We will refer in the code to the physical pin number, but it is always useful to be able to look at a diagram to tell what is available to use on each pin. Anything marked \"GPIO\" is a general-purpose input/output pin that we can assign to output a signal to drive the LED. When the signal is HIGH, it will allow current to light the LED.\n",
    "\n",
    "Once you have that, and as long as you are executing now inside ipython, you can click on the box below and hit shift-enter to run the script and watch it flash the LED."
   ]
  },
  {
   "cell_type": "code",
   "execution_count": null,
   "metadata": {
    "collapsed": false
   },
   "outputs": [],
   "source": [
    "import RPi.GPIO as GPIO\n",
    "import time\n",
    "from IPython.display import clear_output\n",
    "\n",
    "# blinking function\n",
    "def blink(pin):\n",
    "    GPIO.output(pin, GPIO.HIGH)\n",
    "    time.sleep(0.5)\n",
    "    GPIO.output(pin, GPIO.LOW)\n",
    "    time.sleep(0.5)\n",
    "    return\n",
    "\n",
    "print(\"using Raspberry Pi board pin numbers\")\n",
    "GPIO.setmode(GPIO.BOARD)\n",
    "led_pin = 11\n",
    "\n",
    "print(\"set up GPIO output channel\")\n",
    "GPIO.setwarnings(False)\n",
    "GPIO.setup(led_pin, GPIO.OUT)\n",
    "\n",
    "print(\"blinking the LED\")\n",
    "for i in range(0,6):\n",
    "    print(\"blink\")\n",
    "    blink(led_pin)\n",
    "    \n",
    "GPIO.cleanup()"
   ]
  },
  {
   "cell_type": "markdown",
   "metadata": {},
   "source": [
    "It really does it\n",
    "=================\n",
    "Did you see the output of the script appear under your code window? Did your LED flash its little heart out? We love being able to dig right in like this. It's spine-tingling fun the first time you see it.\n",
    "\n",
    "Now click in the code above and try changing it before you hit shift-enter again. You could make it blink more quickly for example by shortening the sleep timer duration to 0.25.\n",
    "\n",
    "What is the code doing\n",
    "======================\n",
    "It may look like a jumbled mess when you first encounter someone's code. Let's dig in and sort it out.\n",
    "\n",
    "First, this is python code that uses libraries especially for pi. Python is a popular language for using the pi and it's also fairly easy to get started with.\n",
    "\n",
    "The first lines with \"import\" make it clear what other libraries and functions we will call on. We need GPIO functions for activating the LED as well as time functions for pausing between flashes.\n",
    "\n",
    "Next we create a function to blink the LED. It will set the pin to HIGH to illuminate it with current and LOW when we want it off. It will return after flashing the LED once.\n",
    "\n",
    "In two steps, we tell the GPIO library we will use board pin numbering and we set \"led_pin\" to 11. With board pin numbering, this refers to the pin 11 on the physical connector. If you count your way up from the bottom, you can see in the diagram above this pin has the name \"GPIO17\". The 17 isn't really important to us, but we had to choose a pin that was a GPIO so we could use it for general purpose input/output (output specifically).\n",
    "\n",
    "Pin 11 has to be designated for output next.\n",
    "\n",
    "Finally we use a range to cycle through a loop to blink the light. It blinks once for each run through the loop from 0 to 5.\n",
    "\n",
    "Go on to [Learner lesson 2](learner2.ipynb)\n",
    "\n"
   ]
  },
  {
   "cell_type": "code",
   "execution_count": null,
   "metadata": {
    "collapsed": true
   },
   "outputs": [],
   "source": []
  }
 ],
 "metadata": {
  "kernelspec": {
   "display_name": "Python 3",
   "language": "python",
   "name": "python3"
  },
  "language_info": {
   "codemirror_mode": {
    "name": "ipython",
    "version": 3
   },
   "file_extension": ".py",
   "mimetype": "text/x-python",
   "name": "python",
   "nbconvert_exporter": "python",
   "pygments_lexer": "ipython3",
   "version": "3.6.0"
  }
 },
 "nbformat": 4,
 "nbformat_minor": 0
}
